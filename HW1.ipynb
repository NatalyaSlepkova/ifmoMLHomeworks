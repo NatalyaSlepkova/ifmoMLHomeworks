{
 "cells": [
  {
   "cell_type": "code",
   "execution_count": 141,
   "metadata": {},
   "outputs": [],
   "source": [
    "from sklearn.preprocessing import LabelEncoder\n",
    "from sklearn.linear_model import SGDClassifier\n",
    "from sklearn import datasets\n",
    "from sklearn.grid_search import GridSearchCV\n",
    "from sklearn.svm import LinearSVC, SVC\n",
    "from sklearn import svm\n",
    "from sklearn.cross_validation import train_test_split\n",
    "from sklearn.metrics import classification_report, accuracy_score\n",
    "import pandas as pd\n",
    "import numpy as np"
   ]
  },
  {
   "cell_type": "code",
   "execution_count": 142,
   "metadata": {},
   "outputs": [],
   "source": [
    "train_df = pd.read_csv('train.csv')\n",
    "\n",
    "le = LabelEncoder()\n",
    "for c in train_df.columns:\n",
    "    if train_df[c].dtype == 'object':\n",
    "        train_df[c] = le.fit_transform(train_df[c].values)\n",
    "\n",
    "train_df.drop(train_df.columns[0], axis=1, inplace=True)\n",
    "train_df = train_df.values\n",
    "y = train_df[:, -1]\n",
    "X = train_df[:, :-1]"
   ]
  },
  {
   "cell_type": "code",
   "execution_count": 143,
   "metadata": {},
   "outputs": [],
   "source": [
    "X_train, X_test, y_train, y_test = train_test_split(X, y, test_size=0.5, random_state=0)"
   ]
  },
  {
   "cell_type": "code",
   "execution_count": 144,
   "metadata": {},
   "outputs": [
    {
     "data": {
      "text/plain": [
       "0.5424954792043399"
      ]
     },
     "execution_count": 144,
     "metadata": {},
     "output_type": "execute_result"
    }
   ],
   "source": [
    "from sklearn.model_selection import GridSearchCV\n",
    "\n",
    "params = {\n",
    "    \"loss\" : [\"hinge\", \"log\", \"squared_hinge\", \"modified_huber\"],\n",
    "    \"alpha\" : [0.0001, 0.001, 0.01, 0.1],\n",
    "    \"penalty\" : [\"l2\", \"l1\", \"none\"],\n",
    "}\n",
    "\n",
    "model = SGDClassifier(max_iter=1000)\n",
    "clf = GridSearchCV(model, param_grid=params)\n",
    "\n",
    "clf.fit(X_train, y_train)\n",
    "clf.score(X_test, y_test)\n",
    "clf.fit(X, y)"
   ]
  },
  {
   "cell_type": "code",
   "execution_count": 146,
   "metadata": {},
   "outputs": [
    {
     "data": {
      "text/plain": [
       "0.5690174804098854"
      ]
     },
     "execution_count": 146,
     "metadata": {},
     "output_type": "execute_result"
    }
   ],
   "source": [
    "clf = LinearSVC()\n",
    "clf.fit(X_train, y_train)\n",
    "clf.score(X_test, y_test)\n",
    "clf.fit(X, y)"
   ]
  },
  {
   "cell_type": "code",
   "execution_count": 138,
   "metadata": {},
   "outputs": [
    {
     "data": {
      "text/plain": [
       "RandomForestClassifier(bootstrap=True, class_weight=None, criterion='gini',\n",
       "            max_depth=None, max_features='auto', max_leaf_nodes=None,\n",
       "            min_impurity_decrease=0.0, min_impurity_split=None,\n",
       "            min_samples_leaf=1, min_samples_split=2,\n",
       "            min_weight_fraction_leaf=0.0, n_estimators=100, n_jobs=-1,\n",
       "            oob_score=False, random_state=None, verbose=0,\n",
       "            warm_start=False)"
      ]
     },
     "execution_count": 138,
     "metadata": {},
     "output_type": "execute_result"
    }
   ],
   "source": [
    "from sklearn.ensemble import RandomForestClassifier\n",
    "clf = RandomForestClassifier(n_estimators=100, n_jobs=-1)\n",
    "clf.fit(X_train, y_train)\n",
    "clf.score(X_test, y_test)\n",
    "clf.fit(X, y)"
   ]
  },
  {
   "cell_type": "code",
   "execution_count": 139,
   "metadata": {},
   "outputs": [
    {
     "name": "stdout",
     "output_type": "stream",
     "text": [
      "   id         f1         f2        f3         f4        f5         f6  \\\n",
      "0   1  21.127315  -9.027203 -2.662135  17.332315 -8.221872  18.618286   \n",
      "1   3  20.172383  -8.713507 -3.707307  17.373136 -8.074053  18.715688   \n",
      "2   5  14.243900 -11.888966 -9.007565  17.118656 -7.379598  18.618670   \n",
      "3   7  23.390174 -11.336027 -6.485945  17.002838 -8.073248  18.598110   \n",
      "4   9  21.801249 -11.008657 -4.825421  17.003255 -8.315699  18.632095   \n",
      "\n",
      "          f7        f8        f9 ...         f18        f19        f20  f21  \\\n",
      "0 -19.477555 -1.140179 -9.533168 ...   15.084694 -26.988132  -5.591469    0   \n",
      "1 -19.982684  0.445046 -9.410445 ...   15.271978   0.793021  -9.885915    0   \n",
      "2 -18.463569  8.988464 -0.843639 ...   15.080459  -9.960777 -11.747417    0   \n",
      "3 -18.252599  5.056625 -8.949516 ...   15.068987 -16.420821 -11.947396    3   \n",
      "4 -19.892151  2.315670 -9.583105 ...   15.144345 -56.042377 -11.599922    0   \n",
      "\n",
      "   f22  f23  f24  f25  f26  f27  \n",
      "0    0    1    1    3    3    6  \n",
      "1    6    0    1    4    3    0  \n",
      "2    1    2    2    4    3    0  \n",
      "3    2    1    2    2    3    0  \n",
      "4    6    0    0    3    3    0  \n",
      "\n",
      "[5 rows x 28 columns]\n",
      "3317\n",
      "          0          1         2          3         4          5          6   \\\n",
      "0  21.127315  -9.027203 -2.662135  17.332315 -8.221872  18.618286 -19.477555   \n",
      "1  20.172383  -8.713507 -3.707307  17.373136 -8.074053  18.715688 -19.982684   \n",
      "2  14.243900 -11.888966 -9.007565  17.118656 -7.379598  18.618670 -18.463569   \n",
      "3  23.390174 -11.336027 -6.485945  17.002838 -8.073248  18.598110 -18.252599   \n",
      "4  21.801249 -11.008657 -4.825421  17.003255 -8.315699  18.632095 -19.892151   \n",
      "\n",
      "         7         8         9  ...          17         18         19   20  \\\n",
      "0 -1.140179 -9.533168 -3.983913 ...   15.084694 -26.988132  -5.591469  0.0   \n",
      "1  0.445046 -9.410445 -2.879235 ...   15.271978   0.793021  -9.885915  0.0   \n",
      "2  8.988464 -0.843639 -4.008892 ...   15.080459  -9.960777 -11.747417  0.0   \n",
      "3  5.056625 -8.949516 -4.076572 ...   15.068987 -16.420821 -11.947396  3.0   \n",
      "4  2.315670 -9.583105 -3.632046 ...   15.144345 -56.042377 -11.599922  0.0   \n",
      "\n",
      "    21   22   23   24   25   26  \n",
      "0  0.0  1.0  1.0  3.0  3.0  6.0  \n",
      "1  6.0  0.0  1.0  4.0  3.0  0.0  \n",
      "2  1.0  2.0  2.0  4.0  3.0  0.0  \n",
      "3  2.0  1.0  2.0  2.0  3.0  0.0  \n",
      "4  6.0  0.0  0.0  3.0  3.0  0.0  \n",
      "\n",
      "[5 rows x 27 columns]\n"
     ]
    }
   ],
   "source": [
    "test_df = pd.read_csv('test.csv')\n",
    "\n",
    "for c in test_df.columns:\n",
    "    if test_df[c].dtype == 'object':\n",
    "        test_df[c] = le.fit_transform(test_df[c].values)\n",
    "        \n",
    "id_row = test_df['id'] \n",
    "test_df.drop(test_df.columns[0], axis=1, inplace=True)\n",
    "test_df = test_df.values\n",
    "X_test = test_df"
   ]
  },
  {
   "cell_type": "code",
   "execution_count": 140,
   "metadata": {},
   "outputs": [
    {
     "name": "stdout",
     "output_type": "stream",
     "text": [
      "3317\n",
      "3317\n",
      "          0          1         2          3         4          5          6   \\\n",
      "0  21.127315  -9.027203 -2.662135  17.332315 -8.221872  18.618286 -19.477555   \n",
      "1  20.172383  -8.713507 -3.707307  17.373136 -8.074053  18.715688 -19.982684   \n",
      "2  14.243900 -11.888966 -9.007565  17.118656 -7.379598  18.618670 -18.463569   \n",
      "3  23.390174 -11.336027 -6.485945  17.002838 -8.073248  18.598110 -18.252599   \n",
      "4  21.801249 -11.008657 -4.825421  17.003255 -8.315699  18.632095 -19.892151   \n",
      "\n",
      "         7         8         9  ...          17         18         19   20  \\\n",
      "0 -1.140179 -9.533168 -3.983913 ...   15.084694 -26.988132  -5.591469  0.0   \n",
      "1  0.445046 -9.410445 -2.879235 ...   15.271978   0.793021  -9.885915  0.0   \n",
      "2  8.988464 -0.843639 -4.008892 ...   15.080459  -9.960777 -11.747417  0.0   \n",
      "3  5.056625 -8.949516 -4.076572 ...   15.068987 -16.420821 -11.947396  3.0   \n",
      "4  2.315670 -9.583105 -3.632046 ...   15.144345 -56.042377 -11.599922  0.0   \n",
      "\n",
      "    21   22   23   24   25   26  \n",
      "0  0.0  1.0  1.0  3.0  3.0  6.0  \n",
      "1  6.0  0.0  1.0  4.0  3.0  0.0  \n",
      "2  1.0  2.0  2.0  4.0  3.0  0.0  \n",
      "3  2.0  1.0  2.0  2.0  3.0  0.0  \n",
      "4  6.0  0.0  0.0  3.0  3.0  0.0  \n",
      "\n",
      "[5 rows x 27 columns]\n",
      "int8\n"
     ]
    },
    {
     "name": "stderr",
     "output_type": "stream",
     "text": [
      "/home/natalya/anaconda3/lib/python3.6/site-packages/sklearn/preprocessing/label.py:151: DeprecationWarning: The truth value of an empty array is ambiguous. Returning False, but in future this will result in an error. Use `array.size > 0` to check that an array is not empty.\n",
      "  if diff:\n"
     ]
    }
   ],
   "source": [
    "y_ans = clf.predict(X_test)\n",
    "y_ans = y_ans.astype(np.int8)\n",
    "y_ans = le.inverse_transform(y_ans)\n",
    "pd.DataFrame({\"id\": id_row, \"class\": y_ans}).to_csv(\"slepkovanatal\" + \".csv\", index=False, header=True)"
   ]
  },
  {
   "cell_type": "code",
   "execution_count": null,
   "metadata": {
    "collapsed": true
   },
   "outputs": [],
   "source": []
  }
 ],
 "metadata": {
  "kernelspec": {
   "display_name": "Python 3",
   "language": "python",
   "name": "python3"
  },
  "language_info": {
   "codemirror_mode": {
    "name": "ipython",
    "version": 3
   },
   "file_extension": ".py",
   "mimetype": "text/x-python",
   "name": "python",
   "nbconvert_exporter": "python",
   "pygments_lexer": "ipython3",
   "version": "3.6.6"
  }
 },
 "nbformat": 4,
 "nbformat_minor": 2
}
